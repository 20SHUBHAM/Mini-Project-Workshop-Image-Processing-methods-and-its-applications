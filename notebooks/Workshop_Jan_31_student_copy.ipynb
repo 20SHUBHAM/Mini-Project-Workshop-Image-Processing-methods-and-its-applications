{
  "nbformat": 4,
  "nbformat_minor": 0,
  "metadata": {
    "colab": {
      "name": "Workshop Jan 31",
      "provenance": [],
      "collapsed_sections": []
    },
    "kernelspec": {
      "name": "python3",
      "display_name": "Python 3"
    },
    "language_info": {
      "name": "python"
    }
  },
  "cells": [
    {
      "cell_type": "markdown",
      "source": [
        "**Importing libraries**\n",
        "\n",
        "\n",
        "\n",
        "\n",
        "\n"
      ],
      "metadata": {
        "id": "B5tizrw_uzJE"
      }
    },
    {
      "cell_type": "code",
      "source": [
        "!git clone https://github.com/shreshth-29/img img\n"
      ],
      "metadata": {
        "id": "-_U9ygBbPyid"
      },
      "execution_count": null,
      "outputs": []
    },
    {
      "cell_type": "code",
      "source": [
        "#OpenCV-Python is a library of Python bindings designed to solve computer vision problems \n",
        "# can be used to perform tasks like face detection, objection tracking, landmark detection, and much more!\n",
        "import cv2\n",
        "\n",
        "#NumPy is a library for the Python programming language, adding support for large,\n",
        "#multi-dimensional arrays and matrices, along with a large collection of high-level mathematical functions to operate on these arrays.\n",
        "#numpy is required frequently along with openCV for image processing applications , as images are nothing but arrays of pixels.\n",
        "import numpy as np\n",
        "\n",
        "#Pyautogui is a cross-platform GUI automation Python module for human beings.\n",
        "#It enables python to interact with your mouse/keyboard.\n",
        "#import pyautogui\n",
        "\n",
        "#To work with/keep track of time:\n",
        "import time\n"
      ],
      "metadata": {
        "id": "l6N01uI4ND27"
      },
      "execution_count": null,
      "outputs": []
    },
    {
      "cell_type": "markdown",
      "source": [
        "**Global Variables**"
      ],
      "metadata": {
        "id": "DaNRuPvivJfC"
      }
    },
    {
      "cell_type": "code",
      "source": [
        "### Global variables\n",
        "\n",
        "#we define arrays specifying the range of the colors to be detected. (Red, Yellow and Blue)\n",
        "\n",
        "blue_range = np.array([[88,78,20],[128,255,255]]) #HSV color codes\n",
        "yellow_range = np.array([[21,70,80],[61,255,255]])\n",
        "red_range = np.array([[158,85,72],[180 ,255,255]])\n",
        "\n",
        "#centroids of R,Y,B regions detected\n",
        "b_cen, y_pos, r_cen = [240,320],[240,320],[240,320]\n",
        "cursor = [960,540]\n",
        "\n",
        "# Area ranges for contours of different colours to be detected\n",
        "r_area = [100,1700] #simple lists\n",
        "b_area = [100,1700]\n",
        "y_area = [100,1700]\n",
        "\n",
        "# Rectangular kernel for eroding and dilating the mask for primary noise removal \n",
        "kernel = np.ones((7,7),np.uint8) #2D array (matrix of 7x7) having all entries 1\n",
        "#np.uint8: unsigned 8 bit integer (0 to 255). required for openCV(instead of simply 'int')\n",
        "\n",
        "perform = False\n",
        "showCentroid = False"
      ],
      "metadata": {
        "id": "qRrdT_aN5ik0"
      },
      "execution_count": null,
      "outputs": []
    },
    {
      "cell_type": "markdown",
      "source": [
        "**Functions**\n",
        "\n",
        "\n",
        "1.   OpenCV Functions (for processing video feed)\n",
        "2.   pyautogui functions (for interacting with the mouse)\n"
      ],
      "metadata": {
        "id": "Ge4HpXoVvP1y"
      }
    },
    {
      "cell_type": "markdown",
      "source": [
        "**OpenCV functions**"
      ],
      "metadata": {
        "id": "nVdvTqz7vhtw"
      }
    },
    {
      "cell_type": "code",
      "source": [
        "###Function definitions\n",
        "#when a function is called, the code within is executed on the argument.\n",
        "\n",
        "#literally does nothing!\n",
        "def nothing(x):\n",
        "    pass"
      ],
      "metadata": {
        "id": "IcxPws-eNEft"
      },
      "execution_count": null,
      "outputs": []
    },
    {
      "cell_type": "code",
      "source": [
        "\n",
        "def makeMask(hsv_frame, color_Range):\n",
        "\n",
        "    #Masking,useful when we want to segment out something from the environment, based on color.\n",
        "\n",
        "    #pixel values falling the range--> white, rest black\n",
        "    #color operations easier in HSV space\n",
        "\n",
        "    mask = cv2.inRange() #image, lower bound, upper bound\n",
        "\n",
        "    # erosion and dilation on images\n",
        "    eroded = cv2.erode( mask, kernel, iterations=1)\n",
        "    dilated = cv2.dilate( eroded, kernel, iterations=1)\n",
        "    \n",
        "    return dilated\n",
        "  "
      ],
      "metadata": {
        "id": "ckdKZWA8NFDJ"
      },
      "execution_count": null,
      "outputs": []
    },
    {
      "cell_type": "code",
      "source": [
        "#example: calling the function\n",
        "from google.colab.patches import cv2_imshow #for showing images in colab.\n",
        "\n",
        "image=cv2.imread('/content/img/vlue.jpg')\n",
        "#original image\n",
        "cv2_imshow(image)\n",
        "\n",
        "#now we will create a mask, to segment out the blue region\n",
        "\n",
        "range=np.array([[88,78,20],[128,255,255]]) #for blue\n",
        "hsv = cv2.cvtColor(image, cv2.COLOR_BGR2HSV) #convert image to hsv space\n",
        "#function called\n",
        "masked=makeMask(hsv, range)\n",
        "#image displayed\n",
        "cv2_imshow(masked)"
      ],
      "metadata": {
        "id": "bzZ5DCArXiD_",
        "colab": {
          "base_uri": "https://localhost:8080/",
          "height": 261
        },
        "outputId": "b7a0e221-3ec0-4706-d53c-b1aaf04e4272"
      },
      "execution_count": null,
      "outputs": [
        {
          "output_type": "display_data",
          "data": {
            "image/png": "[encoded data removed]",
            "text/plain": [
              "<PIL.Image.Image image mode=RGB size=160x122 at 0x7F32171F3090>"
            ]
          },
          "metadata": {}
        },
        {
          "output_type": "display_data",
          "data": {
            "image/png": "[encoded data removed]",
            "text/plain": [
              "<PIL.Image.Image image mode=L size=160x122 at 0x7F32171F3090>"
            ]
          },
          "metadata": {}
        }
      ]
    },
    {
      "cell_type": "code",
      "source": [
        "# Custom calibration, in case the detection with default ranges doesnt work\n",
        "def calibrateColor(color, def_range):\n",
        "    \n",
        "    global kernel\n",
        "    name = 'Calibrate '+ color\n",
        "    cv2.namedWindow(name)\n",
        "\n",
        "    cv2.createTrackbar('Hue', name, def_range[0][0]+20, 180, nothing)\n",
        "    cv2.createTrackbar('Sat', name, def_range[0][1]   , 255, nothing)\n",
        "    cv2.createTrackbar('Val', name, def_range[0][2]   , 255, nothing)\n",
        "\n",
        "    while(1):\n",
        "        ret , frameinv = cap.read()\n",
        "        frame=cvlip(framei2.fnv ,1)\n",
        "\n",
        "        hsv = cv2.cvtColor(frame, cv2.COLOR_BGR2HSV)\n",
        "\n",
        "        hue = cv2.getTrackbarPos('Hue', name)\n",
        "        sat = cv2.getTrackbarPos('Sat', name)\n",
        "        val = cv2.getTrackbarPos('Val', name)\n",
        "\n",
        "        lower = np.array([hue-20,sat,val])\n",
        "        upper = np.array([hue+20,255,255])\n",
        "\n",
        "        mask = cv2.inRange(hsv, lower, upper)\n",
        "        eroded = cv2.erode( mask, kernel, iterations=1)\n",
        "        dilated = cv2.dilate( eroded, kernel, iterations=1)\n",
        "\n",
        "        cv2.imshow(name, dilated)       \n",
        "\n",
        "        k = cv2.waitKey(5) & 0xFF\n",
        "        if k == ord(' '): #if space pressed\n",
        "            cv2.destroyWindow(name)\n",
        "            return np.array([[hue-20,sat,val],[hue+20,255,255]])\n",
        "        elif k == ord('d'): #if D pressed\n",
        "            cv2.destroyWindow(name)\n",
        "            return def_range"
      ],
      "metadata": {
        "id": "08xDNsVIqIiU"
      },
      "execution_count": null,
      "outputs": []
    },
    {
      "cell_type": "code",
      "source": [
        "# To bring to the top the contours with largest area in the specified range\n",
        "# Used in drawContour()\n",
        "def swap( array, i, j):\n"
      ],
      "metadata": {
        "id": "nz3WMLy037Hx"
      },
      "execution_count": null,
      "outputs": []
    },
    {
      "cell_type": "code",
      "source": [
        "#example: calling the function\n",
        "\n",
        "array=[1,2,5,4]\n",
        "swap(array,1,2) #2nd and 3rd elements to be swapped.\n",
        "#note that function doesnt return anything\n",
        "print(array)\n",
        "            "
      ],
      "metadata": {
        "id": "JF2_vYbVbosZ",
        "colab": {
          "base_uri": "https://localhost:8080/"
        },
        "outputId": "58a9ec1b-6e43-4e0f-867c-e77f6a62fb37"
      },
      "execution_count": null,
      "outputs": [
        {
          "output_type": "stream",
          "name": "stdout",
          "text": [
            "[1, 5, 2, 4]\n"
          ]
        }
      ]
    },
    {
      "cell_type": "code",
      "source": [
        "def drawCentroid(vid, color_area, mask, showCentroid): #to display the centroid of the detected regions\n",
        "    \n",
        "    #contour==boundary/outline. An array of points making a closed path.\n",
        "    #in our case it will be an outline of the finger around which the coloured paper is wrapped.\n",
        "\n",
        "   contour, _ = cv2.findContours( mask, cv2.RETR_TREE, cv2.CHAIN_APPROX_SIMPLE) #returns an array containing the contours\n",
        "   cnt=list(contour) #convert to a list\n",
        "   l=len(cnt) #will give you the number of contours\n",
        "   area = list(np.zeros(l)) #1D array (list) of size l. Initialised to all zeros.\n",
        "\n",
        "   i=0\n",
        "   for c in contour:\n",
        "     cnt_area=cv2.contourArea(c)\n",
        "     if cnt_area>color_area[0] and cnt_area<color_area[1]:\n",
        "          #if area of contour is within provided range\n",
        "            area[i] = cnt_area\n",
        "            #append the area to the area list.\n",
        "            i+=1\n",
        "     else:\n",
        "          #if not in range, then append 0 in the area list\n",
        "            area[i] = 0\n",
        "            i+=1\n",
        "\n",
        "   a = sorted( area, reverse=True) #sort the area list in descending order.\n",
        "\n",
        "   \n",
        "   # bringing contours with largest valid area to the top\n",
        "   k=0\n",
        "   while(k<l):\n",
        "    if area[k] == a[0]: #a[0] is the largest contour area\n",
        "      swap(cnt, k, 0)  \n",
        "      k+=1\n",
        "\n",
        "    #at this point, the contour list will contain the contour with the largest area as it's first element. (contour[0])\n",
        "    #This will be the region where the paper is wrapped. We will work with this region now.\n",
        "\n",
        "   if l > 0 :      \n",
        "        # finding centroid using method of 'moments'\n",
        "        #M = cv2.moments(contour[0])\n",
        "        M = cv2.moments(cnt[0])\n",
        "        if M['m00'] != 0:\n",
        "            cx = int(M['m10']/M['m00'])\n",
        "            cy = int(M['m01']/M['m00'])\n",
        "            center = (cx,cy)\n",
        "            if showCentroid:\n",
        "                cv2.circle( vid, center, 5, (0,0,255), -1)\n",
        "                    \n",
        "            return center\n",
        "   else:\n",
        "        \n",
        "        return (-1,-1)"
      ],
      "metadata": {
        "id": "0q1cwtVnORcR"
      },
      "execution_count": null,
      "outputs": []
    },
    {
      "cell_type": "code",
      "source": [
        "#example with contours\n",
        "image=cv2.imread('/content/img/vlue_2.jpg')\n",
        "cv2_imshow(image)\n",
        "\n",
        "blue_range=np.array([[88,78,20],[128,255,255]]) #for blue\n",
        "hsv = cv2.cvtColor(image, cv2.COLOR_BGR2HSV) #convert image to hsv space\n",
        "mask=makeMask(hsv, blue_range)\n",
        "cv2_imshow(masked)\n",
        "\n",
        "color_area=[50,100] #range\n",
        "center=drawCentroid(image, color_area, mask, True)\n",
        "cv2_imshow(image)\n",
        "\n",
        "\n"
      ],
      "metadata": {
        "id": "m2UCPHiYc48r",
        "colab": {
          "base_uri": "https://localhost:8080/",
          "height": 383
        },
        "outputId": "ff9b75d7-2361-48f5-f734-60a97110920e"
      },
      "execution_count": null,
      "outputs": [
        {
          "output_type": "display_data",
          "data": {
            "image/png": "[encoded data removed]",
            "text/plain": [
              "<PIL.Image.Image image mode=RGB size=160x122 at 0x7F32170C8750>"
            ]
          },
          "metadata": {}
        },
        {
          "output_type": "display_data",
          "data": {
            "image/png": "[encoded data removed]",
            "text/plain": [
              "<PIL.Image.Image image mode=L size=160x122 at 0x7F321709DAD0>"
            ]
          },
          "metadata": {}
        },
        {
          "output_type": "display_data",
          "data": {
            "image/png": "[encoded data removed]",
            "text/plain": [
              "<PIL.Image.Image image mode=RGB size=160x122 at 0x7F32170C8610>"
            ]
          },
          "metadata": {}
        }
      ]
    },
    {
      "cell_type": "code",
      "source": [
        "# Distance between two centroids\n",
        "def distance( c1, c2):\n",
        "    \n"
      ],
      "metadata": {
        "id": "fNUUlyz0OtYx"
      },
      "execution_count": null,
      "outputs": []
    },
    {
      "cell_type": "code",
      "source": [
        "#example: calling the function\n",
        "p1=[3,10]\n",
        "p2=[1,5]\n",
        "d=distance(p1,p2)\n",
        "print(d)"
      ],
      "metadata": {
        "id": "4bt69e9ot6EA",
        "colab": {
          "base_uri": "https://localhost:8080/"
        },
        "outputId": "f144d57b-d8e6-4fd4-9c65-ea811d5b4e6d"
      },
      "execution_count": null,
      "outputs": [
        {
          "output_type": "stream",
          "name": "stdout",
          "text": [
            "5.385164807134504\n"
          ]
        }
      ]
    },
    {
      "cell_type": "markdown",
      "source": [
        "**PyautoGUI functions**"
      ],
      "metadata": {
        "id": "fUUTpY3pwMQO"
      }
    },
    {
      "cell_type": "code",
      "source": [
        "'''\n",
        "This function takes as input the center of yellow region (yc) and \n",
        "the previous cursor position (pyp). The new cursor position is calculated \n",
        "in such a way that the mean deviation for desired steady state is reduced.\n",
        "'''\n",
        "def setCursorPos( yc, pyp):\n",
        "    \n",
        "    yp = np.zeros(2)\n",
        "    \n",
        "    if abs(yc[0]-pyp[0])<5 and abs(yc[1]-pyp[1])<5:\n",
        "        yp[0] = yc[0] + .7*(pyp[0]-yc[0]) \n",
        "        yp[1] = yc[1] + .7*(pyp[1]-yc[1])\n",
        "    else:\n",
        "        yp[0] = yc[0] + .1*(pyp[0]-yc[0])\n",
        "        yp[1] = yc[1] + .1*(pyp[1]-yc[1])\n",
        "    \n",
        "    return yp"
      ],
      "metadata": {
        "id": "TZkehUFHOtrG"
      },
      "execution_count": null,
      "outputs": []
    },
    {
      "cell_type": "code",
      "source": [
        "# Depending upon the relative positions of the three centroids, this function chooses whether \n",
        "# the user desires free movement of cursor, left click, right click or dragging\n",
        "def chooseAction(yp, rc, bc):\n",
        "    out = np.array(['move', 'false'])\n",
        "    if rc[0]!=-1 and bc[0]!=-1:\n",
        "        \n",
        "        if distance(yp,rc)<50 and distance(yp,bc)<50 and distance(rc,bc)<50 :\n",
        "            out[0] = 'drag'\n",
        "            out[1] = 'true'\n",
        "            return out\n",
        "        elif distance(rc,bc)<40: \n",
        "            out[0] = 'left'\n",
        "            return out\n",
        "        elif distance(yp,rc)<40:    \n",
        "            out[0] = 'right'\n",
        "            return out\n",
        "        elif distance(yp,rc)>40 and rc[1]-bc[1]>120:\n",
        "            out[0] = 'down'\n",
        "            return out  \n",
        "        elif bc[1]-rc[1]>110:\n",
        "            out[0] = 'up'\n",
        "            return out\n",
        "        else:\n",
        "            return out\n",
        "\n",
        "    else:\n",
        "        out[0] = -1\n",
        "        return out  "
      ],
      "metadata": {
        "id": "f5AayaLxPCHJ"
      },
      "execution_count": null,
      "outputs": []
    },
    {
      "cell_type": "code",
      "source": [
        "# Movement of cursor on screen, left click, right click,scroll up, scroll down\n",
        "# and dragging actions are performed here based on value stored in 'action'.  \n",
        "#Role of pyautogui starts here: interact with the mouse based on the selected action\n",
        "\n",
        "def performAction( yp, rc, bc, action, drag, perform):\n",
        "    if perform:\n",
        "        cursor[0] = 4*(yp[0]-110)\n",
        "        cursor[1] = 4*(yp[1]-120)\n",
        "        \n",
        "        if action == 'move':\n",
        "\n",
        "            if yp[0]>110 and yp[0]<590 and yp[1]>120 and yp[1]<390:\n",
        "                pyautogui.moveTo(cursor[0],cursor[1])\n",
        "            elif yp[0]<110 and yp[1]>120 and yp[1]<390:\n",
        "                pyautogui.moveTo( 8 , cursor[1])\n",
        "            elif yp[0]>590 and yp[1]>120 and yp[1]<390:\n",
        "                pyautogui.moveTo(1912, cursor[1])\n",
        "            elif yp[0]>110 and yp[0]<590 and yp[1]<120:\n",
        "                pyautogui.moveTo(cursor[0] , 8)\n",
        "            elif yp[0]>110 and yp[0]<590 and yp[1]>390:\n",
        "                pyautogui.moveTo(cursor[0] , 1072)\n",
        "            elif yp[0]<110 and yp[1]<120:\n",
        "                pyautogui.moveTo(8, 8)\n",
        "            elif yp[0]<110 and yp[1]>390:\n",
        "                pyautogui.moveTo(8, 1072)\n",
        "            elif yp[0]>590 and yp[1]>390:\n",
        "                pyautogui.moveTo(1912, 1072)\n",
        "            else:\n",
        "                pyautogui.moveTo(1912, 8)\n",
        "\n",
        "        elif action == 'left':\n",
        "            pyautogui.click(button = 'left')\n",
        "\n",
        "        elif action == 'right':\n",
        "            pyautogui.click(button = 'right')\n",
        "            time.sleep(0.3) \n",
        "\n",
        "        elif action == 'up':\n",
        "            pyautogui.scroll(5)\n",
        "#           time.sleep(0.3)\n",
        "\n",
        "        elif action == 'down':\n",
        "            pyautogui.scroll(-5)            \n",
        "#           time.sleep(0.3)\n",
        "\n",
        "        elif action == 'drag' and drag == 'true':\n",
        "            global y_pos\n",
        "            drag = 'false'\n",
        "            pyautogui.mouseDown()\n",
        "        \n",
        "            while(1):\n",
        "\n",
        "                k = cv2.waitKey(10) & 0xFF\n",
        "                changeStatus(k)\n",
        "\n",
        "                _, frameinv = cap.read()\n",
        "                # flip horizontaly to get mirror image in camera\n",
        "                frame = cv2.flip( frameinv, 1)\n",
        "                \n",
        "                #convert to HSV color space\n",
        "                hsv = cv2.cvtColor( frame, cv2.COLOR_BGR2HSV)\n",
        "\n",
        "                b_mask = makeMask( hsv, blue_range)\n",
        "                r_mask = makeMask( hsv, red_range)\n",
        "                y_mask = makeMask( hsv, yellow_range)\n",
        "\n",
        "                py_pos = y_pos \n",
        "                \n",
        "                #draw the centroids\n",
        "                b_cen = drawCentroid( frame, b_area, b_mask, showCentroid)\n",
        "                r_cen = drawCentroid( frame, r_area, r_mask, showCentroid)  \n",
        "                y_cen = drawCentroid( frame, y_area, y_mask, showCentroid)\n",
        "            \n",
        "                if  py_pos[0]!=-1 and y_cen[0]!=-1:\n",
        "                    y_pos = setCursorPos(y_cen, py_pos)\n",
        "\n",
        "                performAction(y_pos, r_cen, b_cen, 'move', drag, perform)                   \n",
        "                cv2.imshow('Frame', frame)\n",
        "\n",
        "                if distance(y_pos,r_cen)>60 or distance(y_pos,b_cen)>60 or distance(r_cen,b_cen)>60:\n",
        "                    break\n",
        "\n",
        "            pyautogui.mouseUp()"
      ],
      "metadata": {
        "id": "35EdL33xPVvT"
      },
      "execution_count": null,
      "outputs": []
    },
    {
      "cell_type": "code",
      "source": [
        "#Status of mouse operations\n",
        "#To allow control of functionalities, based on pressing certain keys\n",
        "\n",
        "def changeStatus(key):\n",
        "    global perform\n",
        "    global showCentroid\n",
        "    global yellow_range,red_range,blue_range\n",
        "\n",
        "    # toggle mouse simulation\n",
        "    if key == ord('p'):\n",
        "        perform = not perform\n",
        "        if perform:\n",
        "            print ('Mouse simulation ON...')\n",
        "        else:\n",
        "            print ('Mouse simulation OFF...')\n",
        "    \n",
        "    \n",
        "    elif key == ord('c'):\n",
        "        showCentroid = not showCentroid\n",
        "        if showCentroid:\n",
        "            print ('Showing Centroids...')\n",
        "        else:\n",
        "            print ('Not Showing Centroids...')\n",
        "\n",
        "    elif key == ord('r'):\n",
        "        print ('**********************************************************************')\n",
        "        print (' You have entered recalibration mode.')\n",
        "        print (' Use the trackbars to calibrate and press SPACE when done.')\n",
        "        print (' Press D to use the default settings')\n",
        "        print ('**********************************************************************')\n",
        "\n",
        "        yellow_range = calibrateColor('Yellow', yellow_range)\n",
        "        red_range = calibrateColor('Red', red_range)\n",
        "        blue_range = calibrateColor('Blue', blue_range)         \n",
        "    \n",
        "    else:\n",
        "        pass"
      ],
      "metadata": {
        "id": "IGGf881aAuYi"
      },
      "execution_count": null,
      "outputs": []
    },
    {
      "cell_type": "markdown",
      "source": [
        "**Main program**"
      ],
      "metadata": {
        "id": "W2Ty2vSiwUCo"
      }
    },
    {
      "cell_type": "code",
      "source": [
        "#MAIN PROGRAM\n",
        "#the functions defined earlier are called here\n",
        "\n",
        "cap = cv2.VideoCapture(0)\n",
        "\n",
        "print ('**********************************************************************')\n",
        "print (' You have entered calibration mode.')\n",
        "print (' Use the trackbars to calibrate and press SPACE when done.')\n",
        "print (' Press D to use the default settings.')\n",
        "print ('**********************************************************************')\n",
        "\n",
        "#caliberate ranges (or just use the default)\n",
        "yellow_range = calibrateColor('Yellow', yellow_range)\n",
        "red_range = calibrateColor('Red', red_range)\n",
        "blue_range = calibrateColor('Blue', blue_range)\n",
        "print (' Calibration Successfull...')\n",
        "\n",
        "cv2.namedWindow('Frame')\n",
        "\n",
        "print ('**********************************************************************')\n",
        "print (' Press P to turn ON and OFF mouse simulation.')\n",
        "print (' Press C to display the centroid of various colours.')\n",
        "print (' Press R to recalibrate color ranges.')\n",
        "print (' Press ESC to exit.')\n",
        "print ('**********************************************************************')\n",
        "\n",
        "while(1):\n",
        "\n",
        "    k = cv2.waitKey(10) & 0xFF\n",
        "    changeStatus(k) #check mouse status\n",
        "\n",
        "\n",
        "    _, frameinv = cap.read()\n",
        "    # flip horizontaly to get mirror image in camera\n",
        "    frame = cv2.flip( frameinv, 1)\n",
        "    #convert to hsv color space\n",
        "    hsv = cv2.cvtColor( frame, cv2.COLOR_BGR2HSV)\n",
        "    \n",
        "    #create masks to segment out the coloured portions\n",
        "    b_mask = makeMask( hsv, blue_range)\n",
        "    r_mask = makeMask( hsv, red_range)\n",
        "    y_mask = makeMask( hsv, yellow_range)\n",
        "    \n",
        "    #current cursor position becomes the previous cursor position for the next iteration\n",
        "    py_pos = y_pos \n",
        "    \n",
        "    #display the centroids\n",
        "    b_cen = drawCentroid( frame, b_area, b_mask, showCentroid)\n",
        "    r_cen = drawCentroid( frame, r_area, r_mask, showCentroid)  \n",
        "    y_cen = drawCentroid( frame, y_area, y_mask, showCentroid)\n",
        "    \n",
        "    if  py_pos[0]!=-1 and y_cen[0]!=-1 and y_pos[0]!=-1:\n",
        "        #set new position\n",
        "        y_pos = setCursorPos(y_cen, py_pos)\n",
        "    \n",
        "    #action chosen based on relative positions of r,y,b\n",
        "    output = chooseAction(y_pos, r_cen, b_cen) \n",
        "\n",
        "    if output[0]!=-1:\n",
        "        #perform action\n",
        "        performAction(y_pos, r_cen, b_cen, output[0], output[1], perform)   \n",
        "    \n",
        "    #to show video feed\n",
        "    cv2.imshow('Frame', frame)\n",
        "\n",
        "    if k == 27: #escape key\n",
        "        break\n",
        "cv2.destroyAllWindows()\n",
        "cap.release() #video capture terminated"
      ],
      "metadata": {
        "id": "A0xr6Rip-Vvg"
      },
      "execution_count": null,
      "outputs": []
    }
  ]
}